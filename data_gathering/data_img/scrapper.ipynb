{
 "cells": [
  {
   "cell_type": "code",
   "execution_count": 1,
   "metadata": {},
   "outputs": [],
   "source": [
    "import time\n",
    "import datetime\n",
    "import math\n",
    "import csv\n",
    "import os\n",
    "import urllib.request\n",
    "import pandas as pd\n",
    "from cmath import exp\n",
    "from os import link\n",
    "from turtle import pos\n",
    "from elasticsearch import Elasticsearch\n",
    "from elasticsearch_dsl import Search, MultiSearch, A, Q\n",
    "from selenium import webdriver\n",
    "from selenium.webdriver.common.action_chains import ActionChains\n",
    "from selenium.webdriver.common.by import By\n",
    "from selenium.webdriver.chrome.service import Service\n",
    "from selenium.common.exceptions import NoSuchElementException"
   ]
  },
  {
   "cell_type": "code",
   "execution_count": 2,
   "metadata": {},
   "outputs": [],
   "source": [
    "class ScrappingGambar:\n",
    "    def __init__(self):\n",
    "        PATH = Service(\"chromedriver_win32/chromedriver.exe\")\n",
    "        self.options = webdriver.ChromeOptions()\n",
    "        self.options.add_argument('--log-level=3')\n",
    "        #self.options.add_argument(\"--headless\")\n",
    "        # self.options.add_argument('--no-sandbox')\n",
    "        # self.options.add_argument('--disable-dev-shm-usage')\n",
    "        self.driver = webdriver.Chrome(service=PATH, options=self.options)\n",
    "\n",
    "    def searchImage(self, foodName):\n",
    "        link_search = \"https://www.google.com/search?q=\" + foodName + \\\n",
    "            \"&sxsrf=ALiCzsa36xYjF_yA0vFxfZmtkAuxpbNCIg:1652651117865&source=lnms&tbm=isch&sa=X&ved=2ahUKEwjm1_-Tj-T3AhUzTmwGHfh0C84Q_AUoAXoECAMQAw#imgrc=SvWjqNT9REh46M\"\n",
    "\n",
    "        self.driver.get(link_search)\n",
    "\n",
    "    def scroll_to_bottom(self):\n",
    "        last_height = self.driver.execute_script('\\\n",
    "        return document.body.scrollHeight')\n",
    "\n",
    "        while True:\n",
    "            self.driver.execute_script('\\\n",
    "            window.scrollTo(0,document.body.scrollHeight)')\n",
    "\n",
    "            time.sleep(3)\n",
    "\n",
    "            new_height = self.driver.execute_script('\\\n",
    "            return document.body.scrollHeight')\n",
    "\n",
    "            try:\n",
    "                self.driver.find_element_by_css_selector(\n",
    "                    \".YstHxe input\").click()\n",
    "                time.sleep(3)\n",
    "\n",
    "            except:\n",
    "                pass\n",
    "            if new_height == last_height:\n",
    "                last_height = True\n",
    "                break\n",
    "            last_height = new_height\n",
    "        return(last_height)\n",
    "\n",
    "    def getImage(self, foodName):\n",
    "        self.searchImage(foodName)\n",
    "        count = 1\n",
    "        last_height = False\n",
    "        while True:\n",
    "            linkImages = self.driver.find_elements(\n",
    "                By.XPATH, '//img[@class=\"rg_i Q4LuWd\"]')\n",
    "            print(len(linkImages))\n",
    "            if last_height:\n",
    "                break\n",
    "            else:\n",
    "                last_height = self.scroll_to_bottom()\n",
    "        for image in linkImages:\n",
    "            try:\n",
    "                imageClicked = image.click()\n",
    "                time.sleep(2)\n",
    "                imageHD = self.driver.find_element(By.XPATH, '//div[@class=\"v4dQwb\"]//img[@alt=\"{}\"]'.format(image.get_attribute('alt')))\n",
    "            except:\n",
    "                continue\n",
    "            if not os.path.exists('datasetGambar/' + foodName):\n",
    "                os.makedirs('datasetGambar/' + foodName)\n",
    "            src = imageHD.get_attribute('src')\n",
    "            saveName = 'datasetGambar/{}/{}{}.png'.format(\n",
    "                foodName, foodName, count)\n",
    "            try:\n",
    "                urllib.request.urlretrieve(src, saveName)\n",
    "                print('{} {}'.format(src, saveName))\n",
    "            except:\n",
    "                continue\n",
    "            if count == 150:\n",
    "                break\n",
    "            count += 1\n"
   ]
  },
  {
   "cell_type": "code",
   "execution_count": 1,
   "metadata": {},
   "outputs": [
    {
     "name": "stdout",
     "output_type": "stream",
     "text": [
      "50\n"
     ]
    }
   ],
   "source": [
    "if __name__ == '__main__':\n",
    "    foodList = ['Sate','Sop','Nasi Goreng','Soto','Burger','Pizza','Gado Gado','Ketoprak','Pempek','Tekwan','Nasi Uduk','Lontong Sayur','Rendang','Bakso','Mie Ayam','Siomay','Batagor','Kwetiau Goreng','Mie Goreng','Sayur Lodeh','Ayam Bakar','Bubur Ayam','Rawon','Capcai','Opor','Gudeg','Karedok','Urap','Tongseng','Gulai','Selat Solo','Empal Gentong','Asinan','Swike','Corndog','Roti Bakar','Martabak Manis','Martabak Telur','Roti Canai','Fuyunghai','Sayur Asem','Mendoan','Risoles','Lumpia','Ikan Bakar','Ayam Geprek','Ketang Goreng','Steak','Arem Arem','Bakwan']\n",
    "    scrappingGambar = ScrappingGambar()\n",
    "    for food in foodList:\n",
    "        scrappingGambar.searchImage(food)\n",
    "        scrappingGambar.getImage(food)"
   ]
  }
 ],
 "metadata": {
  "interpreter": {
   "hash": "ea416d41bd9c8b2be7baf6bf3c3903db8d504012298a5bf87c741fb25dd57ad6"
  },
  "kernelspec": {
   "display_name": "Python 3.9.6 64-bit",
   "language": "python",
   "name": "python3"
  },
  "language_info": {
   "codemirror_mode": {
    "name": "ipython",
    "version": 3
   },
   "file_extension": ".py",
   "mimetype": "text/x-python",
   "name": "python",
   "nbconvert_exporter": "python",
   "pygments_lexer": "ipython3",
   "version": "3.9.6"
  },
  "orig_nbformat": 4
 },
 "nbformat": 4,
 "nbformat_minor": 2
}
